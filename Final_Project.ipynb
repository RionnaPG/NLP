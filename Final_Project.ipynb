{
  "cells": [
    {
      "cell_type": "markdown",
      "metadata": {
        "id": "X6_BmqPBStca"
      },
      "source": [
        "Import Drive"
      ]
    },
    {
      "cell_type": "code",
      "execution_count": 1,
      "metadata": {
        "colab": {
          "base_uri": "https://localhost:8080/"
        },
        "id": "NMzJ1xyj0i8K",
        "outputId": "c330e6f7-9a98-4c02-96d2-c859158ac010"
      },
      "outputs": [
        {
          "output_type": "stream",
          "name": "stdout",
          "text": [
            "Mounted at /content/drive\n"
          ]
        }
      ],
      "source": [
        "from google.colab import drive\n",
        "drive.mount('/content/drive')"
      ]
    },
    {
      "cell_type": "markdown",
      "metadata": {
        "id": "mR89W03RS2T-"
      },
      "source": [
        "Import dataset and process data"
      ]
    },
    {
      "cell_type": "code",
      "execution_count": 2,
      "metadata": {
        "colab": {
          "base_uri": "https://localhost:8080/"
        },
        "id": "0P0iekbT0rny",
        "outputId": "394e94a4-151e-4178-b0f1-0200652cdef0"
      },
      "outputs": [
        {
          "output_type": "stream",
          "name": "stdout",
          "text": [
            "[nltk_data] Downloading package wordnet to /root/nltk_data...\n",
            "[nltk_data]   Unzipping corpora/wordnet.zip.\n",
            "[nltk_data] Downloading package stopwords to /root/nltk_data...\n",
            "[nltk_data]   Unzipping corpora/stopwords.zip.\n",
            "\n",
            "Shape:  (12000, 2)\n",
            "\n",
            "Value Counts : \n",
            "5    3000\n",
            "4    3000\n",
            "1    2000\n",
            "3    2000\n",
            "2    2000\n",
            "Name: rating, dtype: int64\n"
          ]
        }
      ],
      "source": [
        "import nltk\n",
        "import string\n",
        "import re\n",
        "import pandas as pd\n",
        "\n",
        "from nltk.corpus import stopwords\n",
        "from nltk.stem import WordNetLemmatizer\n",
        "\n",
        "nltk.download('wordnet')\n",
        "nltk.download('stopwords')\n",
        "\n",
        "data = pd.read_csv('/content/drive/MyDrive/kindle_review .csv')\n",
        "\n",
        "\n",
        "stpwrds = stopwords.words('english')\n",
        "stpwrds.remove('not')\n",
        "lemmatizer = WordNetLemmatizer()\n",
        "\n",
        "    \n",
        "\n",
        "def textprocessing(text):\n",
        "    text = re.sub(r'[^a-zA-Z\\s]', '', text)\n",
        "    text = re.sub(r'<.*?>', '', text)\n",
        "    text = text.lower().strip()\n",
        "    text = text.translate(str.maketrans('', '', string.punctuation))\n",
        "    text = \" \".join([lemmatizer.lemmatize(word) for word in str(text).split() if word not in stpwrds])\n",
        "    \n",
        "    return text\n",
        "\n",
        "\n",
        "data=data.drop(columns=['Unnamed: 0','summary'])\n",
        "print(\"\\nShape: \",data.shape)\n",
        "print('\\nValue Counts : ')\n",
        "print(data['rating'].value_counts())"
      ]
    },
    {
      "cell_type": "code",
      "source": [
        "data['Processed_Review'] = data['reviewText'].map(textprocessing)\n",
        "print('\\nProcessed data : ')\n",
        "print(data.head(10))"
      ],
      "metadata": {
        "colab": {
          "base_uri": "https://localhost:8080/"
        },
        "id": "x48QrOIzL45E",
        "outputId": "fc8394b0-e9eb-4b8a-cd08-23ad06d6e00a"
      },
      "execution_count": 3,
      "outputs": [
        {
          "output_type": "stream",
          "name": "stdout",
          "text": [
            "\n",
            "Processed data : \n",
            "   rating                                         reviewText  \\\n",
            "0       5  This book was the very first bookmobile book I...   \n",
            "1       1  When I read the description for this book, I c...   \n",
            "2       5  I just had to edit this review. This book is a...   \n",
            "3       5  I don't normally buy 'mystery' novels because ...   \n",
            "4       5  This isn't the kind of book I normally read, a...   \n",
            "5       4  I really enjoyed how this story developed.  It...   \n",
            "6       3  I bought this book because I loved the cover a...   \n",
            "7       5  This was a book that I thoroughly enjoyed from...   \n",
            "8       4  If the first entry into the series was a toddl...   \n",
            "9       1  I bought this set and returned it.  I couldn't...   \n",
            "\n",
            "                                    Processed_Review  \n",
            "0  book first bookmobile book bought school book ...  \n",
            "1  read description book couldnt wait read downlo...  \n",
            "2  edit review book believe got right updated rew...  \n",
            "3  dont normally buy mystery novel dont like howe...  \n",
            "4  isnt kind book normally read although try not ...  \n",
            "5  really enjoyed story developed wellwritten sci...  \n",
            "6  bought book loved cover try read civil war rom...  \n",
            "7  book thoroughly enjoyed beginning end story li...  \n",
            "8  first entry series toddler first clumsy attemp...  \n",
            "9  bought set returned couldnt force finish first...  \n"
          ]
        }
      ]
    },
    {
      "cell_type": "markdown",
      "metadata": {
        "id": "bgkGfyHyTQFQ"
      },
      "source": [
        "Splitting Dataset"
      ]
    },
    {
      "cell_type": "code",
      "execution_count": 21,
      "metadata": {
        "colab": {
          "base_uri": "https://localhost:8080/"
        },
        "id": "czgcF0wX2r43",
        "outputId": "14275544-0db4-4fb5-a67e-db9f061353bb"
      },
      "outputs": [
        {
          "output_type": "stream",
          "name": "stdout",
          "text": [
            "\n",
            "\n",
            "Shape of Training Data\n",
            "X_train\ty_train\n",
            "(8400,) (8400,)\n",
            "\n",
            "\n",
            "Shape of Testing Data\n",
            "X_test\ty_test\n",
            "(3600,) (3600,)\n"
          ]
        }
      ],
      "source": [
        "import numpy as np\n",
        "from sklearn.model_selection import train_test_split\n",
        "\n",
        "X = np.array(data['Processed_Review'])\n",
        "\n",
        "y = np.array(data['rating'])\n",
        "\n",
        "X_train, X_test, y_train, y_test = train_test_split(X, y, test_size = 0.3, random_state = 42)\n",
        "print('\\n\\nShape of Training Data')\n",
        "print('X_train\\ty_train')\n",
        "print( X_train.shape,y_train.shape)\n",
        "\n",
        "print('\\n\\nShape of Testing Data')\n",
        "print('X_test\\ty_test')\n",
        "print( X_test.shape, y_test.shape)"
      ]
    },
    {
      "cell_type": "markdown",
      "metadata": {
        "id": "LeRTnWouTYRc"
      },
      "source": [
        "Count Vectorizer"
      ]
    },
    {
      "cell_type": "code",
      "execution_count": 5,
      "metadata": {
        "colab": {
          "base_uri": "https://localhost:8080/"
        },
        "id": "2MZxePXpCMg3",
        "outputId": "e5c68e28-8650-4828-d688-3022da41fc62"
      },
      "outputs": [
        {
          "output_type": "stream",
          "name": "stdout",
          "text": [
            "  (0, 3240)\t2\n",
            "  (0, 6572)\t1\n",
            "  (0, 6848)\t1\n",
            "  (0, 8301)\t1\n",
            "  (0, 9197)\t1\n",
            "  (0, 9463)\t1\n",
            "  (0, 9671)\t1\n",
            "  (0, 11239)\t1\n",
            "  (0, 12713)\t1\n",
            "  (0, 15887)\t1\n",
            "  (0, 16044)\t1\n",
            "  (0, 17214)\t1\n",
            "  (0, 17249)\t1\n",
            "  (0, 17536)\t1\n",
            "  (0, 19230)\t2\n",
            "  (0, 19608)\t1\n",
            "  (0, 21342)\t1\n",
            "  (0, 23092)\t1\n",
            "  (0, 23119)\t1\n",
            "  (0, 23405)\t1\n",
            "  (0, 23459)\t2\n",
            "  (0, 26003)\t1\n",
            "  (0, 27974)\t1\n",
            "  (0, 29009)\t1\n",
            "  (0, 29610)\t1\n",
            "  :\t:\n",
            "  (8399, 26030)\t2\n",
            "  (8399, 26392)\t1\n",
            "  (8399, 27434)\t1\n",
            "  (8399, 27852)\t1\n",
            "  (8399, 27974)\t1\n",
            "  (8399, 28577)\t1\n",
            "  (8399, 28622)\t1\n",
            "  (8399, 28846)\t1\n",
            "  (8399, 29040)\t1\n",
            "  (8399, 29435)\t1\n",
            "  (8399, 29507)\t1\n",
            "  (8399, 29739)\t1\n",
            "  (8399, 29809)\t1\n",
            "  (8399, 30513)\t1\n",
            "  (8399, 30675)\t1\n",
            "  (8399, 30753)\t1\n",
            "  (8399, 31374)\t1\n",
            "  (8399, 31918)\t1\n",
            "  (8399, 32371)\t1\n",
            "  (8399, 32727)\t4\n",
            "  (8399, 32943)\t1\n",
            "  (8399, 33048)\t1\n",
            "  (8399, 33049)\t1\n",
            "  (8399, 33078)\t2\n",
            "  (8399, 33191)\t1\n"
          ]
        }
      ],
      "source": [
        "from sklearn.feature_extraction.text import CountVectorizer\n",
        "\n",
        "cV = CountVectorizer(ngram_range=(1,1))\n",
        "\n",
        "cV.fit(X_train)\n",
        "\n",
        "X_train_CV = cV.transform(X_train)\n",
        "X_test_CV  = cV.transform(X_test)\n",
        "\n",
        "print(X_train_CV)"
      ]
    },
    {
      "cell_type": "markdown",
      "metadata": {
        "id": "j0PC_Q-tTcLg"
      },
      "source": [
        "TF-IDF "
      ]
    },
    {
      "cell_type": "code",
      "execution_count": 6,
      "metadata": {
        "colab": {
          "base_uri": "https://localhost:8080/"
        },
        "id": "oOoEmzRqCW8z",
        "outputId": "3edbedcd-b1c7-4ddc-e804-e2ccd3144324"
      },
      "outputs": [
        {
          "output_type": "stream",
          "name": "stdout",
          "text": [
            "  (0, 751707)\t0.1240764173696265\n",
            "  (0, 751706)\t0.1240764173696265\n",
            "  (0, 751699)\t0.10948661994886827\n",
            "  (0, 708417)\t0.1240764173696265\n",
            "  (0, 708414)\t0.11190788776691346\n",
            "  (0, 708264)\t0.06823723354997054\n",
            "  (0, 682630)\t0.1240764173696265\n",
            "  (0, 682629)\t0.1240764173696265\n",
            "  (0, 682616)\t0.08902919259524054\n",
            "  (0, 676932)\t0.1240764173696265\n",
            "  (0, 676931)\t0.1240764173696265\n",
            "  (0, 676919)\t0.084292475892904\n",
            "  (0, 665593)\t0.1240764173696265\n",
            "  (0, 665592)\t0.1240764173696265\n",
            "  (0, 664500)\t0.04653081011600734\n",
            "  (0, 651378)\t0.08106610061325907\n",
            "  (0, 626871)\t0.1240764173696265\n",
            "  (0, 626866)\t0.1041019598194465\n",
            "  (0, 623716)\t0.022496413345840564\n",
            "  (0, 582137)\t0.1240764173696265\n",
            "  (0, 582136)\t0.1240764173696265\n",
            "  (0, 582098)\t0.08684721424065803\n",
            "  (0, 527595)\t0.11869175724020475\n",
            "  (0, 527594)\t0.1074394671779135\n",
            "  (0, 527046)\t0.11869175724020475\n",
            "  :\t:\n",
            "  (8399, 28808)\t0.060618804941416166\n",
            "  (8399, 28740)\t0.07289166575769988\n",
            "  (8399, 25811)\t0.060618804941416166\n",
            "  (8399, 25810)\t0.060618804941416166\n",
            "  (8399, 25713)\t0.03783526371691639\n",
            "  (8399, 25056)\t0.060618804941416166\n",
            "  (8399, 25052)\t0.042835739689198675\n",
            "  (8399, 24451)\t0.022018414637386304\n",
            "  (8399, 23659)\t0.060618804941416166\n",
            "  (8399, 23658)\t0.060618804941416166\n",
            "  (8399, 23502)\t0.03773914076375802\n",
            "  (8399, 19325)\t0.060618804941416166\n",
            "  (8399, 19324)\t0.060618804941416166\n",
            "  (8399, 19188)\t0.060618804941416166\n",
            "  (8399, 19183)\t0.0534908099304946\n",
            "  (8399, 19084)\t0.05725285485486222\n",
            "  (8399, 15590)\t0.060618804941416166\n",
            "  (8399, 15589)\t0.060618804941416166\n",
            "  (8399, 15299)\t0.03175602699801209\n",
            "  (8399, 14322)\t0.060618804941416166\n",
            "  (8399, 14321)\t0.060618804941416166\n",
            "  (8399, 14309)\t0.046362814919573024\n",
            "  (8399, 10462)\t0.060618804941416166\n",
            "  (8399, 10461)\t0.060618804941416166\n",
            "  (8399, 10283)\t0.03160600457634766\n"
          ]
        }
      ],
      "source": [
        "from sklearn.feature_extraction.text import TfidfVectorizer\n",
        "\n",
        "tV = TfidfVectorizer(ngram_range=(1, 3))\n",
        "fitted_tV = tV.fit(X_train)\n",
        "\n",
        "X_train_tV = fitted_tV.transform(X_train)\n",
        "X_test_tV  = fitted_tV.transform(X_test)\n",
        "\n",
        "print(X_train_tV)"
      ]
    },
    {
      "cell_type": "markdown",
      "metadata": {
        "id": "NWugG3WYTkZ_"
      },
      "source": [
        "Count Vectorizer Models"
      ]
    },
    {
      "cell_type": "markdown",
      "metadata": {
        "id": "o3PvI_gJTqK5"
      },
      "source": [
        "Multinomial Naive Bayes"
      ]
    },
    {
      "cell_type": "code",
      "execution_count": 7,
      "metadata": {
        "colab": {
          "base_uri": "https://localhost:8080/",
          "height": 557
        },
        "id": "Igv1X0NtCjeU",
        "outputId": "bd7735f9-e6d9-4fc8-cd1b-4a8eef1ec896"
      },
      "outputs": [
        {
          "output_type": "stream",
          "name": "stdout",
          "text": [
            "Naive Bayes - Count Vectorizer\n",
            "Test Set Accuracy : \n",
            "47.55555555555556\n",
            "              precision    recall  f1-score   support\n",
            "\n",
            "           1       0.59      0.47      0.53       591\n",
            "           2       0.42      0.38      0.40       634\n",
            "           3       0.39      0.23      0.29       615\n",
            "           4       0.39      0.64      0.48       859\n",
            "           5       0.64      0.56      0.59       901\n",
            "\n",
            "    accuracy                           0.48      3600\n",
            "   macro avg       0.49      0.46      0.46      3600\n",
            "weighted avg       0.49      0.48      0.47      3600\n",
            "\n"
          ]
        },
        {
          "output_type": "execute_result",
          "data": {
            "text/plain": [
              "<sklearn.metrics._plot.confusion_matrix.ConfusionMatrixDisplay at 0x7fe6d7044810>"
            ]
          },
          "metadata": {},
          "execution_count": 7
        },
        {
          "output_type": "display_data",
          "data": {
            "text/plain": [
              "<Figure size 432x288 with 2 Axes>"
            ],
            "image/png": "[encoded data removed]"
          },
          "metadata": {
            "needs_background": "light"
          }
        }
      ],
      "source": [
        "from sklearn.naive_bayes import MultinomialNB\n",
        "from sklearn import metrics\n",
        "from sklearn.metrics import confusion_matrix\n",
        "from sklearn.metrics import ConfusionMatrixDisplay\n",
        "\n",
        "model = MultinomialNB().fit(X_train_CV, y_train)\n",
        "y_pred = model.predict(X_test_CV)\n",
        "cf_matrix = confusion_matrix(y_test, y_pred)\n",
        "\n",
        "print('Naive Bayes - Count Vectorizer')\n",
        "print(\"Test Set Accuracy : \")\n",
        "print(metrics.accuracy_score(y_test, y_pred) * 100)\n",
        "print(metrics.classification_report(y_test, y_pred))\n",
        "disp = ConfusionMatrixDisplay(confusion_matrix=cf_matrix, display_labels=model.classes_) \n",
        "disp.plot()\n",
        "\n"
      ]
    },
    {
      "cell_type": "markdown",
      "metadata": {
        "id": "hmXQJ8juT1ga"
      },
      "source": [
        "Logistic Regression"
      ]
    },
    {
      "cell_type": "code",
      "execution_count": 8,
      "metadata": {
        "colab": {
          "base_uri": "https://localhost:8080/",
          "height": 557
        },
        "id": "E5KuSWzNCr6O",
        "outputId": "c5e866be-6a13-49c2-a298-246b30209399"
      },
      "outputs": [
        {
          "output_type": "stream",
          "name": "stdout",
          "text": [
            "Logistic Regression - Count Vectorizer\n",
            "Test Set Accuracy : \n",
            "47.11111111111111\n",
            "              precision    recall  f1-score   support\n",
            "\n",
            "           1       0.53      0.53      0.53       591\n",
            "           2       0.41      0.38      0.40       634\n",
            "           3       0.35      0.31      0.33       615\n",
            "           4       0.42      0.46      0.44       859\n",
            "           5       0.59      0.62      0.60       901\n",
            "\n",
            "    accuracy                           0.47      3600\n",
            "   macro avg       0.46      0.46      0.46      3600\n",
            "weighted avg       0.47      0.47      0.47      3600\n",
            "\n"
          ]
        },
        {
          "output_type": "execute_result",
          "data": {
            "text/plain": [
              "<sklearn.metrics._plot.confusion_matrix.ConfusionMatrixDisplay at 0x7fe6d7044d90>"
            ]
          },
          "metadata": {},
          "execution_count": 8
        },
        {
          "output_type": "display_data",
          "data": {
            "text/plain": [
              "<Figure size 432x288 with 2 Axes>"
            ],
            "image/png": "[encoded data removed]"
          },
          "metadata": {
            "needs_background": "light"
          }
        }
      ],
      "source": [
        "from sklearn.linear_model import LogisticRegression\n",
        "\n",
        "model = LogisticRegression(max_iter=500).fit(X_train_CV, y_train)\n",
        "y_pred = model.predict(X_test_CV)\n",
        "cf_matrix = confusion_matrix(y_test, y_pred)\n",
        "\n",
        "print('Logistic Regression - Count Vectorizer')\n",
        "print(\"Test Set Accuracy : \")\n",
        "print(metrics.accuracy_score(y_test, y_pred) * 100)\n",
        "print(metrics.classification_report(y_test, y_pred))\n",
        "disp = ConfusionMatrixDisplay(confusion_matrix=cf_matrix, display_labels=model.classes_) \n",
        "disp.plot()"
      ]
    },
    {
      "cell_type": "markdown",
      "metadata": {
        "id": "MAMt81ieT_US"
      },
      "source": [
        "Random Forest"
      ]
    },
    {
      "cell_type": "code",
      "execution_count": 9,
      "metadata": {
        "colab": {
          "base_uri": "https://localhost:8080/",
          "height": 557
        },
        "id": "FJgKjIi7LX21",
        "outputId": "9548de7b-59db-49d5-dee9-55da4e72d2cf"
      },
      "outputs": [
        {
          "output_type": "stream",
          "name": "stdout",
          "text": [
            "Random Forest - Count Vectorizer\n",
            "Test Set Accuracy : \n",
            "44.02777777777778\n",
            "              precision    recall  f1-score   support\n",
            "\n",
            "           1       0.47      0.59      0.53       591\n",
            "           2       0.40      0.20      0.27       634\n",
            "           3       0.37      0.11      0.17       615\n",
            "           4       0.37      0.53      0.43       859\n",
            "           5       0.52      0.65      0.58       901\n",
            "\n",
            "    accuracy                           0.44      3600\n",
            "   macro avg       0.43      0.42      0.40      3600\n",
            "weighted avg       0.43      0.44      0.41      3600\n",
            "\n"
          ]
        },
        {
          "output_type": "execute_result",
          "data": {
            "text/plain": [
              "<sklearn.metrics._plot.confusion_matrix.ConfusionMatrixDisplay at 0x7fe6d60e4850>"
            ]
          },
          "metadata": {},
          "execution_count": 9
        },
        {
          "output_type": "display_data",
          "data": {
            "text/plain": [
              "<Figure size 432x288 with 2 Axes>"
            ],
            "image/png": "[encoded data removed]"
          },
          "metadata": {
            "needs_background": "light"
          }
        }
      ],
      "source": [
        "from sklearn.ensemble import RandomForestClassifier\n",
        "\n",
        "model = RandomForestClassifier().fit(X_train_CV, y_train)\n",
        "y_pred = model.predict(X_test_CV)\n",
        "cf_matrix = confusion_matrix(y_test, y_pred)\n",
        "\n",
        "print('Random Forest - Count Vectorizer')\n",
        "print(\"Test Set Accuracy : \")\n",
        "print(metrics.accuracy_score(y_test, y_pred) * 100)\n",
        "print(metrics.classification_report(y_test, y_pred))\n",
        "disp = ConfusionMatrixDisplay(confusion_matrix=cf_matrix, display_labels=model.classes_) \n",
        "disp.plot()\n"
      ]
    },
    {
      "cell_type": "markdown",
      "metadata": {
        "id": "vZ7X7F6PUF9b"
      },
      "source": [
        "LinearSVC"
      ]
    },
    {
      "cell_type": "code",
      "execution_count": 10,
      "metadata": {
        "colab": {
          "base_uri": "https://localhost:8080/",
          "height": 592
        },
        "id": "iM1JMDmFO65t",
        "outputId": "2f0e514f-014d-4e19-e579-28e04350339c"
      },
      "outputs": [
        {
          "output_type": "stream",
          "name": "stdout",
          "text": [
            "LinearSVC - Count Vectorizer\n",
            "Test Set Accuracy : \n",
            "42.66666666666667\n",
            "              precision    recall  f1-score   support\n",
            "\n",
            "           1       0.48      0.49      0.48       591\n",
            "           2       0.37      0.35      0.36       634\n",
            "           3       0.29      0.28      0.29       615\n",
            "           4       0.39      0.41      0.40       859\n",
            "           5       0.55      0.56      0.56       901\n",
            "\n",
            "    accuracy                           0.43      3600\n",
            "   macro avg       0.42      0.42      0.42      3600\n",
            "weighted avg       0.42      0.43      0.43      3600\n",
            "\n"
          ]
        },
        {
          "output_type": "stream",
          "name": "stderr",
          "text": [
            "/usr/local/lib/python3.7/dist-packages/sklearn/svm/_base.py:1208: ConvergenceWarning: Liblinear failed to converge, increase the number of iterations.\n",
            "  ConvergenceWarning,\n"
          ]
        },
        {
          "output_type": "execute_result",
          "data": {
            "text/plain": [
              "<sklearn.metrics._plot.confusion_matrix.ConfusionMatrixDisplay at 0x7fe6d401cf90>"
            ]
          },
          "metadata": {},
          "execution_count": 10
        },
        {
          "output_type": "display_data",
          "data": {
            "text/plain": [
              "<Figure size 432x288 with 2 Axes>"
            ],
            "image/png": "[encoded data removed]"
          },
          "metadata": {
            "needs_background": "light"
          }
        }
      ],
      "source": [
        "from sklearn.svm import LinearSVC\n",
        "\n",
        "model = LinearSVC().fit(X_train_CV, y_train)\n",
        "y_pred = model.predict(X_test_CV)\n",
        "cf_matrix = confusion_matrix(y_test, y_pred)\n",
        "\n",
        "print('LinearSVC - Count Vectorizer')\n",
        "print(\"Test Set Accuracy : \")\n",
        "print(metrics.accuracy_score(y_test, y_pred) * 100)\n",
        "print(metrics.classification_report(y_test, y_pred))\n",
        "disp = ConfusionMatrixDisplay(confusion_matrix=cf_matrix, display_labels=model.classes_) \n",
        "disp.plot()\n"
      ]
    },
    {
      "cell_type": "markdown",
      "metadata": {
        "id": "V7nJqCroUbgd"
      },
      "source": [
        "TF-IDF with Models"
      ]
    },
    {
      "cell_type": "markdown",
      "metadata": {
        "id": "DHzni3S_Ugvz"
      },
      "source": [
        "Multinomial Naive Bayes"
      ]
    },
    {
      "cell_type": "code",
      "execution_count": 12,
      "metadata": {
        "colab": {
          "base_uri": "https://localhost:8080/",
          "height": 557
        },
        "id": "QTHojgIyFtLt",
        "outputId": "e4c84429-431a-4910-f09a-d2d2542f1412"
      },
      "outputs": [
        {
          "output_type": "stream",
          "name": "stdout",
          "text": [
            "Naive Bayes - TF-IDF\n",
            "Test Set Accuracy : \n",
            "34.75\n",
            "              precision    recall  f1-score   support\n",
            "\n",
            "           1       0.75      0.18      0.30       591\n",
            "           2       0.56      0.01      0.03       634\n",
            "           3       0.50      0.00      0.00       615\n",
            "           4       0.26      0.86      0.40       859\n",
            "           5       0.68      0.43      0.53       901\n",
            "\n",
            "    accuracy                           0.35      3600\n",
            "   macro avg       0.55      0.30      0.25      3600\n",
            "weighted avg       0.54      0.35      0.28      3600\n",
            "\n"
          ]
        },
        {
          "output_type": "execute_result",
          "data": {
            "text/plain": [
              "<sklearn.metrics._plot.confusion_matrix.ConfusionMatrixDisplay at 0x7fe6d6894210>"
            ]
          },
          "metadata": {},
          "execution_count": 12
        },
        {
          "output_type": "display_data",
          "data": {
            "text/plain": [
              "<Figure size 432x288 with 2 Axes>"
            ],
            "image/png": "[encoded data removed]"
          },
          "metadata": {
            "needs_background": "light"
          }
        }
      ],
      "source": [
        "from sklearn.naive_bayes import MultinomialNB\n",
        "from sklearn import metrics\n",
        "from sklearn.metrics import confusion_matrix,accuracy_score, f1_score\n",
        "from sklearn.metrics import ConfusionMatrixDisplay\n",
        "\n",
        "model = MultinomialNB().fit(X_train_tV, y_train)\n",
        "y_pred = model.predict(X_test_tV)\n",
        "cf_matrix = confusion_matrix(y_test, y_pred)\n",
        "\n",
        "print('Naive Bayes - TF-IDF')\n",
        "print(\"Test Set Accuracy : \")\n",
        "print(metrics.accuracy_score(y_test, y_pred) * 100)\n",
        "print(metrics.classification_report(y_test, y_pred))\n",
        "disp = ConfusionMatrixDisplay(confusion_matrix=cf_matrix, display_labels=model.classes_) \n",
        "disp.plot()\n"
      ]
    },
    {
      "cell_type": "markdown",
      "metadata": {
        "id": "t7R--kEuUpnq"
      },
      "source": [
        "Logistic Regression"
      ]
    },
    {
      "cell_type": "code",
      "execution_count": 13,
      "metadata": {
        "colab": {
          "base_uri": "https://localhost:8080/",
          "height": 557
        },
        "id": "SCtQZfYLod6q",
        "outputId": "0e8e1c0a-de73-4358-dae7-40a4710dc73d"
      },
      "outputs": [
        {
          "output_type": "stream",
          "name": "stdout",
          "text": [
            "Logistic Regression - TF-IDF\n",
            "Test Set Accuracy : \n",
            "50.66666666666667\n",
            "              precision    recall  f1-score   support\n",
            "\n",
            "           1       0.58      0.55      0.57       591\n",
            "           2       0.47      0.40      0.43       634\n",
            "           3       0.46      0.21      0.29       615\n",
            "           4       0.42      0.67      0.52       859\n",
            "           5       0.63      0.61      0.62       901\n",
            "\n",
            "    accuracy                           0.51      3600\n",
            "   macro avg       0.51      0.49      0.48      3600\n",
            "weighted avg       0.52      0.51      0.50      3600\n",
            "\n"
          ]
        },
        {
          "output_type": "execute_result",
          "data": {
            "text/plain": [
              "<sklearn.metrics._plot.confusion_matrix.ConfusionMatrixDisplay at 0x7fe6d5473210>"
            ]
          },
          "metadata": {},
          "execution_count": 13
        },
        {
          "output_type": "display_data",
          "data": {
            "text/plain": [
              "<Figure size 432x288 with 2 Axes>"
            ],
            "image/png": "[encoded data removed]"
          },
          "metadata": {
            "needs_background": "light"
          }
        }
      ],
      "source": [
        "model = LogisticRegression(max_iter=300).fit(X_train_tV, y_train)\n",
        "y_pred = model.predict(X_test_tV)\n",
        "cf_matrix = confusion_matrix(y_test, y_pred)\n",
        "\n",
        "print('Logistic Regression - TF-IDF')\n",
        "print(\"Test Set Accuracy : \")\n",
        "print(metrics.accuracy_score(y_test, y_pred) * 100)\n",
        "print(metrics.classification_report(y_test, y_pred))\n",
        "disp = ConfusionMatrixDisplay(confusion_matrix=cf_matrix, display_labels=model.classes_) \n",
        "disp.plot()"
      ]
    },
    {
      "cell_type": "markdown",
      "metadata": {
        "id": "eLryzf3aZcs4"
      },
      "source": [
        "Random Forest"
      ]
    },
    {
      "cell_type": "code",
      "execution_count": 14,
      "metadata": {
        "colab": {
          "base_uri": "https://localhost:8080/",
          "height": 561
        },
        "id": "dIbyNQefZg-G",
        "outputId": "bd5447b3-5ab0-4c6f-b2fe-c4a70d412101"
      },
      "outputs": [
        {
          "output_type": "stream",
          "name": "stdout",
          "text": [
            "Random Forest - tf-idf Vector\n",
            "Test Set Accuracy : \n",
            "44.138888888888886\n",
            "              precision    recall  f1-score   support\n",
            "\n",
            "           1       0.52      0.60      0.56       591\n",
            "           2       0.47      0.18      0.26       634\n",
            "           3       0.43      0.07      0.13       615\n",
            "           4       0.36      0.55      0.43       859\n",
            "           5       0.48      0.67      0.56       901\n",
            "\n",
            "    accuracy                           0.44      3600\n",
            "   macro avg       0.45      0.41      0.39      3600\n",
            "weighted avg       0.45      0.44      0.40      3600\n",
            "\n"
          ]
        },
        {
          "output_type": "execute_result",
          "data": {
            "text/plain": [
              "<sklearn.metrics._plot.confusion_matrix.ConfusionMatrixDisplay at 0x7fe6d4e32750>"
            ]
          },
          "metadata": {},
          "execution_count": 14
        },
        {
          "output_type": "display_data",
          "data": {
            "text/plain": [
              "<Figure size 432x288 with 2 Axes>"
            ],
            "image/png": "[encoded data removed]"
          },
          "metadata": {
            "needs_background": "light"
          }
        }
      ],
      "source": [
        "from sklearn.ensemble import RandomForestClassifier\n",
        "\n",
        "model = RandomForestClassifier().fit(X_train_tV, y_train)\n",
        "y_pred=model.predict(X_test_tV)\n",
        "cf_matrix = confusion_matrix(y_test, y_pred)\n",
        "\n",
        "print('Random Forest - TF-IDF')\n",
        "print(\"Test Set Accuracy : \")\n",
        "print(metrics.accuracy_score(y_test, y_pred) * 100)\n",
        "print(metrics.classification_report(y_test, y_pred))\n",
        "disp = ConfusionMatrixDisplay(confusion_matrix=cf_matrix, display_labels=model.classes_) \n",
        "disp.plot()"
      ]
    },
    {
      "cell_type": "markdown",
      "metadata": {
        "id": "t3uS-UA7aiiw"
      },
      "source": [
        "Linear SVC"
      ]
    },
    {
      "cell_type": "code",
      "execution_count": 15,
      "metadata": {
        "id": "WBD6bSv0alQM",
        "colab": {
          "base_uri": "https://localhost:8080/",
          "height": 557
        },
        "outputId": "e627da27-a680-451a-c058-25cd9315d3f3"
      },
      "outputs": [
        {
          "output_type": "stream",
          "name": "stdout",
          "text": [
            "LinearSVC - TF-IDF\n",
            "Test Set Accuracy : \n",
            "51.63888888888889\n",
            "              precision    recall  f1-score   support\n",
            "\n",
            "           1       0.58      0.61      0.60       591\n",
            "           2       0.47      0.40      0.43       634\n",
            "           3       0.43      0.27      0.33       615\n",
            "           4       0.45      0.58      0.51       859\n",
            "           5       0.62      0.64      0.63       901\n",
            "\n",
            "    accuracy                           0.52      3600\n",
            "   macro avg       0.51      0.50      0.50      3600\n",
            "weighted avg       0.51      0.52      0.51      3600\n",
            "\n"
          ]
        },
        {
          "output_type": "execute_result",
          "data": {
            "text/plain": [
              "<sklearn.metrics._plot.confusion_matrix.ConfusionMatrixDisplay at 0x7fe6d6894390>"
            ]
          },
          "metadata": {},
          "execution_count": 15
        },
        {
          "output_type": "display_data",
          "data": {
            "text/plain": [
              "<Figure size 432x288 with 2 Axes>"
            ],
            "image/png": "[encoded data removed]"
          },
          "metadata": {
            "needs_background": "light"
          }
        }
      ],
      "source": [
        "from sklearn.svm import LinearSVC\n",
        "\n",
        "model = LinearSVC(max_iter=500).fit(X_train_tV, y_train)\n",
        "y_pred = model.predict(X_test_tV)\n",
        "cf_matrix = confusion_matrix(y_test, y_pred)\n",
        "\n",
        "print('LinearSVC - TF-IDF')\n",
        "print(\"Test Set Accuracy : \")\n",
        "print(metrics.accuracy_score(y_test, y_pred) * 100)\n",
        "print(metrics.classification_report(y_test, y_pred))\n",
        "disp = ConfusionMatrixDisplay(confusion_matrix=cf_matrix, display_labels=model.classes_) \n",
        "disp.plot()"
      ]
    },
    {
      "cell_type": "markdown",
      "metadata": {
        "id": "eTODAjlTUv1M"
      },
      "source": [
        "Predictions"
      ]
    },
    {
      "cell_type": "code",
      "source": [
        "model = LinearSVC(max_iter=500).fit(X_train_tV, y_train)"
      ],
      "metadata": {
        "id": "5DWtsEK1NOMx"
      },
      "execution_count": 16,
      "outputs": []
    },
    {
      "cell_type": "code",
      "source": [
        "new_review = \"\"\"I really enjoyed reading this novel\"\"\"\n",
        "print(model.predict(fitted_tV.transform([new_review])))"
      ],
      "metadata": {
        "colab": {
          "base_uri": "https://localhost:8080/"
        },
        "id": "8BceB5-VGQ1V",
        "outputId": "52c8cabf-ef74-434c-b84c-a2f45dbfb558"
      },
      "execution_count": 17,
      "outputs": [
        {
          "output_type": "stream",
          "name": "stdout",
          "text": [
            "[5]\n"
          ]
        }
      ]
    },
    {
      "cell_type": "code",
      "source": [
        "new_review = \"\"\"I very much enjoyed this book. It was nearing the end before I figured everything out, and although there were some reveals I had not seen coming, nothing was out of sync with the portrayal of the characters.\"\"\"\n",
        "print(model.predict(fitted_tV.transform([new_review])))"
      ],
      "metadata": {
        "colab": {
          "base_uri": "https://localhost:8080/"
        },
        "id": "vrr8urRvGQkg",
        "outputId": "947e121a-9340-4845-dd91-6e49daead51f"
      },
      "execution_count": 18,
      "outputs": [
        {
          "output_type": "stream",
          "name": "stdout",
          "text": [
            "[4]\n"
          ]
        }
      ]
    },
    {
      "cell_type": "code",
      "source": [
        "new_review = \"\"\"There are no words for how much I loathed this book.\"\"\"\n",
        "print(model.predict(fitted_tV.transform([new_review])))"
      ],
      "metadata": {
        "colab": {
          "base_uri": "https://localhost:8080/"
        },
        "id": "IzRm-SRYGQN1",
        "outputId": "d0a05f84-8613-420c-ec4a-6ef2f7cbd3f4"
      },
      "execution_count": 20,
      "outputs": [
        {
          "output_type": "stream",
          "name": "stdout",
          "text": [
            "[1]\n"
          ]
        }
      ]
    },
    {
      "cell_type": "code",
      "source": [
        "new_review = \"\"\" I normally enjoy books by this author but this book felt slow\"\"\"\n",
        "print(model.predict(fitted_tV.transform([new_review])))"
      ],
      "metadata": {
        "colab": {
          "base_uri": "https://localhost:8080/"
        },
        "id": "80IZbTsZ-u1k",
        "outputId": "6e311286-6435-470c-8b18-dda4de482747"
      },
      "execution_count": 22,
      "outputs": [
        {
          "output_type": "stream",
          "name": "stdout",
          "text": [
            "[3]\n"
          ]
        }
      ]
    }
  ],
  "metadata": {
    "colab": {
      "collapsed_sections": [],
      "name": "Final Project.ipynb",
      "provenance": []
    },
    "kernelspec": {
      "display_name": "Python 3",
      "language": "python",
      "name": "python3"
    },
    "language_info": {
      "codemirror_mode": {
        "name": "ipython",
        "version": 3
      },
      "file_extension": ".py",
      "mimetype": "text/x-python",
      "name": "python",
      "nbconvert_exporter": "python",
      "pygments_lexer": "ipython3",
      "version": "3.7.12"
    }
  },
  "nbformat": 4,
  "nbformat_minor": 0
}